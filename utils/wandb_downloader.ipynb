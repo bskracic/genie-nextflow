{
 "cells": [
  {
   "cell_type": "markdown",
   "metadata": {},
   "source": [
    "Download all integrated gradients graphs as SVG"
   ]
  },
  {
   "cell_type": "code",
   "execution_count": null,
   "metadata": {},
   "outputs": [],
   "source": [
    "import matplotlib.pyplot as plt\n",
    "import networkx as nx\n",
    "import numpy as np\n",
    "import shutil\n",
    "import wandb\n",
    "\n",
    "import os\n",
    "\n",
    "genes =  [\n",
    "    \"C6orf150\",\n",
    "    \"CCL5\",\n",
    "    \"CXCL10\",\n",
    "    \"TMEM173\",\n",
    "    \"CXCL9\",\n",
    "    \"CXCL11\",\n",
    "    \"NFKB1\",\n",
    "    \"IKBKE\",\n",
    "    \"IRF3\",\n",
    "    \"TREX1\",\n",
    "    \"ATM\",\n",
    "    \"IL6\",\n",
    "    \"IL8\"\n",
    "  ]\n",
    "\n",
    "\n",
    "def draw_graph(feature_importance, adj_matrix):\n",
    "    normalized_data = np.array(feature_importance)\n",
    "    normalized_data = (normalized_data - np.min(normalized_data)) / (\n",
    "            np.max(normalized_data) - np.min(normalized_data))\n",
    "\n",
    "    cmap = plt.cm.RdPu\n",
    "    colors = [cmap(val) for val in normalized_data]\n",
    "\n",
    "    fig = plt.figure(figsize=(10, 8))\n",
    "    G = nx.from_numpy_array(adj_matrix)\n",
    "    labels = {i: gene for i, gene in enumerate(genes)}\n",
    "    pos = nx.kamada_kawai_layout(G)\n",
    "    nx.draw(G, pos, labels=labels, with_labels=True, node_color=colors, node_size=500, font_size=12)\n",
    "    return fig\n",
    "\n",
    "\n",
    "USERNAME = 'borna-personal'\n",
    "PROJECT = 'GENIE-Nextflow-v2'\n",
    "\n",
    "BASE_PATH = 'genie-graphs'\n",
    "\n",
    "api = wandb.Api()\n",
    "runs = api.runs(f\"{USERNAME}/{PROJECT}\")\n",
    "\n",
    "if os.path.exists(f'{BASE_PATH}'):\n",
    "    shutil.rmtree(f'{BASE_PATH}')\n",
    "os.mkdir(f'{BASE_PATH}')\n",
    "\n",
    "for run in runs:\n",
    "    cancer = run.config.get('cancers')\n",
    "    adj_matrix = run.summary.get('adjacency_matrix')\n",
    "    target = run.config.get('variable')\n",
    "    f1 = run.summary.get('final_f1')\n",
    "\n",
    "    if not os.path.exists(f'{BASE_PATH}/{cancer}'):\n",
    "        os.mkdir(f'{BASE_PATH}/{cancer}')\n",
    "    \n",
    "    os.mkdir(f'{BASE_PATH}/{cancer}/{target}')\n",
    "    for attr, _class in runs[4].history()[['attributions', 'class']].iloc[-2:, :].values:\n",
    "         fig = draw_graph(feature_importance=attr, adj_matrix=np.array(adj_matrix))\n",
    "         fig.savefig(f'{BASE_PATH}/{cancer}/{target}/{target}_{_class}.svg', format='svg')"
   ]
  },
  {
   "cell_type": "markdown",
   "metadata": {},
   "source": [
    "Create f1 final results table"
   ]
  },
  {
   "cell_type": "code",
   "execution_count": null,
   "metadata": {},
   "outputs": [],
   "source": [
    "import wandb\n",
    "\n",
    "USERNAME = 'borna-personal'\n",
    "PROJECT = 'GENIE-Nextflow-v2'\n",
    "\n",
    "api = wandb.Api()\n",
    "runs = api.runs(f\"{USERNAME}/{PROJECT}\")\n",
    "f1_table = {}\n",
    "\n",
    "for run in runs:\n",
    "    cancer = run.config.get('cancers')\n",
    "    target = run.config.get('variable')\n",
    "    f1 = run.summary.get('final_f1')\n",
    "\n",
    "    if cancer not in f1_table.keys():\n",
    "        f1_table[cancer] = []\n",
    "\n",
    "    f1_table[cancer].append((target, f1))\n",
    "\n",
    "\n",
    "for cancer in f1_table.keys():\n",
    "    print(cancer)\n",
    "    for target, f1 in f1_table[cancer]:\n",
    "        if f1 is None:\n",
    "            continue\n",
    "        print(f'\\t{target}: {round(float(f1), 2)}')  "
   ]
  }
 ],
 "metadata": {
  "kernelspec": {
   "display_name": "Python 3",
   "language": "python",
   "name": "python3"
  },
  "language_info": {
   "codemirror_mode": {
    "name": "ipython",
    "version": 3
   },
   "file_extension": ".py",
   "mimetype": "text/x-python",
   "name": "python",
   "nbconvert_exporter": "python",
   "pygments_lexer": "ipython3",
   "version": "3.11.2"
  }
 },
 "nbformat": 4,
 "nbformat_minor": 2
}
